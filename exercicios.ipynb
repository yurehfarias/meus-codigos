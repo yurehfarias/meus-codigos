{
  "nbformat": 4,
  "nbformat_minor": 0,
  "metadata": {
    "colab": {
      "provenance": [],
      "authorship_tag": "ABX9TyNRXj+TuzhLTTGzzmV9NMS0",
      "include_colab_link": true
    },
    "kernelspec": {
      "name": "python3",
      "display_name": "Python 3"
    },
    "language_info": {
      "name": "python"
    }
  },
  "cells": [
    {
      "cell_type": "markdown",
      "metadata": {
        "id": "view-in-github",
        "colab_type": "text"
      },
      "source": [
        "<a href=\"https://colab.research.google.com/github/yurehfarias/meus-codigos/blob/main/exercicios.ipynb\" target=\"_parent\"><img src=\"https://colab.research.google.com/assets/colab-badge.svg\" alt=\"Open In Colab\"/></a>"
      ]
    },
    {
      "cell_type": "code",
      "execution_count": 16,
      "metadata": {
        "colab": {
          "base_uri": "https://localhost:8080/"
        },
        "id": "o67IOz0W7gLg",
        "outputId": "0ebb653b-3a52-49fb-c73f-49d8485e0551"
      },
      "outputs": [
        {
          "output_type": "stream",
          "name": "stdout",
          "text": [
            "Que horas sao?15\n",
            "Boa tarde, são exatamente 15 horas da tarde.\n"
          ]
        }
      ],
      "source": [
        "hora = input('Que horas sao?')\n",
        "\n",
        "if int(hora) < 12:\n",
        "    print(f'Bom dia, são exatamente {hora} horas da manhã.')\n",
        "\n",
        "elif int(hora) < 18:\n",
        "    print(f'Boa tarde, são exatamente {hora} horas da tarde.')\n",
        "\n",
        "elif int(hora) > 18:\n",
        "   print(f'Boa noite, são exatamente {hora} horas da noite.')"
      ]
    },
    {
      "cell_type": "code",
      "source": [
        "nome = input(\"Digite seu nome: \")\n",
        "numero_de_letras = len(nome)\n",
        "\n",
        "if numero_de_letras < 5:\n",
        "  print('Seu nome eh pequeno')\n",
        "\n",
        "elif numero_de_letras < 7:\n",
        "  print('Seu nome eh normal')\n",
        "\n",
        "else:\n",
        "  print('Seu nome eh muito grande')"
      ],
      "metadata": {
        "colab": {
          "base_uri": "https://localhost:8080/"
        },
        "id": "nMqBUrVp-sIz",
        "outputId": "68fd2c24-21de-4ed6-f4af-8d0cad524aed"
      },
      "execution_count": 32,
      "outputs": [
        {
          "output_type": "stream",
          "name": "stdout",
          "text": [
            "Digite seu nome: anderson\n",
            "Seu nome eh muito grande\n"
          ]
        }
      ]
    },
    {
      "cell_type": "code",
      "source": [
        "entrada = input(\"Digite seu numero: \")\n",
        "\n",
        "if entrada.isdigit():\n",
        "  entrada_int = int(entrada)\n",
        "  par_impar = entrada_int % 2 == 0\n",
        "  print(f'O numero que voce digitou eh {\"par\" if par_impar else \"impar\"}')\n",
        "else:\n",
        "  print(\"voce nao digitou um numero inteiro\")\n"
      ],
      "metadata": {
        "colab": {
          "base_uri": "https://localhost:8080/"
        },
        "id": "iFDVmM1bFTll",
        "outputId": "bbe29ebf-9761-4b79-e642-d048934151c9"
      },
      "execution_count": 38,
      "outputs": [
        {
          "output_type": "stream",
          "name": "stdout",
          "text": [
            "Digite seu numero: 4237094723\n",
            "O numero que voce digitou eh impar\n"
          ]
        }
      ]
    }
  ]
}